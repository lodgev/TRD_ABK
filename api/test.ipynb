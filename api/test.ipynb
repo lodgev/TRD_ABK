{
 "cells": [
  {
   "cell_type": "code",
   "execution_count": null,
   "metadata": {
    "vscode": {
     "languageId": "plaintext"
    }
   },
   "outputs": [],
   "source": [
    "import http.client\n",
    "\n",
    "conn = http.client.HTTPSConnection(\"free-api-live-football-data.p.rapidapi.com\")\n",
    "\n",
    "headers = {\n",
    "    'x-rapidapi-key': \"3c99262600msh5da2d3d13033579p1c677ejsnc94020f9ff0e\",\n",
    "\n",
    "    'x-rapidapi-host': \"free-api-live-football-data.p.rapidapi.com\"\n",
    "}\n",
    "\n",
    "conn.request(\"GET\", \"/football-get-trendingnews\", headers=headers)\n",
    "conn.request(\"GET\", \"/football-get-league-news?leagueid=47&page=1\", headers=headers) # league\n",
    "conn.request(\"GET\", \"/football-get-team-news?teamid=8650&page=1\", headers=headers) # teams\n",
    "conn.request(\"GET\", \"/football-get-player-news?playerid=8650&page=1\", headers=headers) # player\n",
    "\n",
    "conn.request(\"GET\", \"/football-get-all-transfers?page=1\", headers=headers)\n",
    "conn.request(\"GET\", \"/football-get-top-transfers?page=1\", headers=headers)\n",
    "conn.request(\"GET\", \"/football-get-market-value-transfers?page=1\", headers=headers)\n",
    "conn.request(\"GET\", \"/football-get-league-transfers?leagueid=47\", headers=headers)\n",
    "conn.request(\"GET\", \"/football-get-team-contract-extension-transfers?teamid=8650\", headers=headers)\n",
    "conn.request(\"GET\", \"/football-get-team-players-in-transfers?teamid=8650\", headers=headers)\n",
    "conn.request(\"GET\", \"/football-get-team-players-out-transfers?teamid=8650\", headers=headers)\n",
    "\n",
    "\n",
    "res = conn.getresponse()\n",
    "data = res.read()\n",
    "\n",
    "print(data.decode(\"utf-8\"))"
   ]
  }
 ],
 "metadata": {
  "language_info": {
   "name": "python"
  }
 },
 "nbformat": 4,
 "nbformat_minor": 2
}
