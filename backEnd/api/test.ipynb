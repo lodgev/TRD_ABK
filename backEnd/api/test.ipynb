{
 "cells": [
  {
   "cell_type": "code",
   "execution_count": 2,
   "metadata": {
    "jupyter": {
     "is_executing": true
    }
   },
   "outputs": [
    {
     "name": "stdout",
     "output_type": "stream",
     "text": [
      "{\"status\":\"success\",\"response\":{\"news\":[{\"imageUrl\":\"https://images2.minutemediacdn.com/image/upload/c_crop,w_3500,h_1968,x_0,y_131/c_fill,w_912,h_516,f_auto,q_auto,g_auto/images/GettyImages/mmsport/90min_en_international_web/01je6gcbhs2674tx5b7b.jpg\",\"title\":\"Tottenham predicted lineup vs Bournemouth - Premier League\",\"gmtTime\":\"2024-12-04T07:00:00.000Z\",\"sourceStr\":\"90min\",\"sourceIconUrl\":\"https://images.fotmob.com/image_resources/news/small90min.png\",\"page\":{\"url\":\"/embed/news/01je6gapn87m/tottenham-predicted-lineup-vs-bournemouth-premier-league\"}},{\"imageUrl\":\"https://images2.minutemediacdn.com/image/upload/c_crop,w_1035,h_582,x_0,y_0/c_fill,w_912,h_516,f_auto,q_auto,g_auto/images/voltaxMediaLibrary/mmsport/90min_en_international_web/01je696dyvn3a057jp95.png\",\"title\":\"Arsenal vs Man Utd: Preview, predictions and lineups\",\"gmtTime\":\"2024-12-04T05:05:00.000Z\",\"sourceStr\":\"90min\",\"sourceIconUrl\":\"https://images.fotmob.com/image_resources/news/small90min.png\",\"page\":{\"url\":\"/embed/news/01je68b70b86/arsenal-vs-man-utd-preview-predictions-lineups\"}},{\"imageUrl\":\"https://images2.minutemediacdn.com/image/upload/c_crop,w_1919,h_1079,x_0,y_0/c_fill,w_912,h_516,f_auto,q_auto,g_auto/images/voltaxMediaLibrary/mmsport/90min_en_international_web/01je6pgsnd4w567yey42.jpg\",\"title\":\"Southampton vs Chelsea: Preview, predictions and lineups\",\"gmtTime\":\"2024-12-04T03:00:00.000Z\",\"sourceStr\":\"90min\",\"sourceIconUrl\":\"https://images.fotmob.com/image_resources/news/small90min.png\",\"page\":{\"url\":\"/embed/news/01je6dj5v1nv/southampton-vs-chelsea-preview-predictions-lineups\"}},{\"imageUrl\":\"https://images2.minutemediacdn.com/image/upload/c_crop,w_1800,h_1012,x_0,y_0/c_fill,w_912,h_516,f_auto,q_auto,g_auto/images/voltaxMediaLibrary/mmsport/90min_en_international_web/01je3t64wszrzds5qtar.png\",\"title\":\"Newcastle vs Liverpool: Preview, predictions and lineups\",\"gmtTime\":\"2024-12-04T00:05:00.000Z\",\"sourceStr\":\"90min\",\"sourceIconUrl\":\"https://images.fotmob.com/image_resources/news/small90min.png\",\"page\":{\"url\":\"/embed/news/01je3t1xwwbj/newcastle-vs-liverpool-preview-predictions-lineups\"}},{\"imageUrl\":\"https://images2.minutemediacdn.com/image/upload/c_crop,w_1803,h_1014,x_0,y_0/c_fill,w_912,h_516,f_auto,q_auto,g_auto/images/voltaxMediaLibrary/mmsport/90min_en_international_web/01je3pjpza9rtd2qq70p.png\",\"title\":\"Man City vs Nottingham Forest: Preview, predictions and lineups\",\"gmtTime\":\"2024-12-04T00:05:00.000Z\",\"sourceStr\":\"90min\",\"sourceIconUrl\":\"https://images.fotmob.com/image_resources/news/small90min.png\",\"page\":{\"url\":\"/embed/news/01je3pakezm1/man-city-vs-nottingham-forest-preview-predictions-lineups\"}},{\"imageUrl\":\"https://i.ytimg.com/vi/U8tJQ_ablSQ/maxresdefault.jpg\",\"title\":\"MATETA'S Magnificent Match-Winner 🤩🎯 | Ipswich Town 0-1 Crystal Palace | Premier League Highlights\",\"gmtTime\":\"2024-12-04T00:01:52.000Z\",\"sourceStr\":\"YouTube\",\"sourceIconUrl\":\"https://images.fotmob.com/image_resources/news/youtube.png\",\"page\":{\"url\":\"https://www.youtube.com/watch?v=U8tJQ_ablSQ\"}},{\"imageUrl\":\"https://i.ytimg.com/vi/38_0cqW-lqw/maxresdefault.jpg\",\"title\":\"A DREAM Start For Ruud 🤩 | Leicester City 3 West Ham 1\",\"gmtTime\":\"2024-12-04T00:00:02.000Z\",\"sourceStr\":\"YouTube\",\"sourceIconUrl\":\"https://images.fotmob.com/image_resources/news/youtube.png\",\"page\":{\"url\":\"https://www.youtube.com/watch?v=38_0cqW-lqw\"}},{\"imageUrl\":\"https://images.performgroup.com/di/library/omnisport/5e/3a/ruud-van-nistelrooy_11nrxp4ous3jk1dnq9wyx4by7l.jpg?t=-1820041469&w=640&h=360\",\"title\":\"Van Nistelrooy seeks improvements despite opening win with Leicester\",\"gmtTime\":\"2024-12-03T23:30:37.000Z\",\"sourceStr\":\"FotMob\",\"lead\":\"West Ham dominated Leicester City for the majority of Tuesday's clash, only for Ruud van Nistelrooy's men to come out on top.\",\"sourceIconUrl\":\"https://images.fotmob.com/image_resources/news/fotmob.png\",\"page\":{\"url\":\"/news/1l2lcgm7kk0y116d5kp7lk9zh6-van-nistelrooy-seeks-improvements-despite-opening-win-leicester\"}},{\"imageUrl\":\"https://images2.minutemediacdn.com/image/upload/c_crop,w_1958,h_1101,x_0,y_26/c_fill,w_912,h_516,f_auto,q_auto,g_auto/images/GettyImages/mmsport/90min_en_international_web/01je6s9e52jnvq1k9gzr.jpg\",\"title\":\"Enzo Maresca sets timeline for Chelsea to 'dominate' the Premier League\",\"gmtTime\":\"2024-12-03T23:30:00.000Z\",\"sourceStr\":\"90min\",\"sourceIconUrl\":\"https://images.fotmob.com/image_resources/news/small90min.png\",\"page\":{\"url\":\"/embed/news/01je6s7papvd/enzo-maresca-sets-timeline-chelsea-dominate-premier-league\"}},{\"imageUrl\":\"https://e1.365dm.com/24/09/1920x1080/skysports-premier-league-west-ham_6677996.jpg?20240906102117\",\"title\":\"West Ham latest: Lopetegui responds to 'sacked' chants from own fans\",\"gmtTime\":\"2024-12-03T23:15:00.000Z\",\"sourceStr\":\"Sky Sports\",\"sourceIconUrl\":\"https://images.fotmob.com/image_resources/news/skysports.png\",\"page\":{\"url\":\"http://www.skysports.com/football/live-blog/11661/13210475/west-ham-transfer-news-rumours-and-gossip-live-updates-and-latest-on-deals-signings-loans-and-contracts\"}},{\"imageUrl\":\"https://images.performgroup.com/di/library/omnisport/6e/4a/jean-philippe-mateta_10nyrnnk8q9ee10yy6v89cyq3p.jpg?t=-1822255181&w=640&h=360\",\"title\":\"'Palace can breathe a little easier after Ipswich win' - Mateta\",\"gmtTime\":\"2024-12-03T23:07:40.000Z\",\"sourceStr\":\"FotMob\",\"lead\":\"Jean-Philippe Mateta and Oliver Glasner are thrilled to see Crystal Palace get their first away win of the season on the board.\",\"sourceIconUrl\":\"https://images.fotmob.com/image_resources/news/fotmob.png\",\"page\":{\"url\":\"/news/8dfbwwff7zgm1gwt7l5b36fsi-palace-can-breathe-little-easier-after-ipswich-win-mateta\"}},{\"imageUrl\":\"https://images2.minutemediacdn.com/image/upload/c_crop,w_3043,h_1711,x_0,y_257/c_fill,w_912,h_516,f_auto,q_auto,g_auto/images/GettyImages/mmsport/90min_en_international_web/01je6hkmrxsdqm4sjy9x.jpg\",\"title\":\"Ruud van Nistelrooy admits it 'hurt' to leave Man Utd\",\"gmtTime\":\"2024-12-03T23:00:00.000Z\",\"sourceStr\":\"90min\",\"sourceIconUrl\":\"https://images.fotmob.com/image_resources/news/small90min.png\",\"page\":{\"url\":\"/embed/news/01je6h71rvxp/ruud-van-nistelrooy-admits-it-hurt-leave-man-utd\"}},{\"imageUrl\":\"https://e2.365dm.com/24/07/1920x1080/skysports-maresca-leicester_6596508.jpg?20240702080319\",\"title\":\"Chelsea latest: Maresca never doubted he was ready for Chelsea task\",\"gmtTime\":\"2024-12-03T22:50:00.000Z\",\"sourceStr\":\"Sky Sports\",\"sourceIconUrl\":\"https://images.fotmob.com/image_resources/news/skysports.png\",\"page\":{\"url\":\"http://www.skysports.com/football/live-blog/11661/13025497/chelsea-transfer-news-rumours-and-gossip-live-updates-and-latest-on-deals-signings-loans-and-contracts\"}},{\"imageUrl\":\"https://i.guim.co.uk/img/media/123fc854f98cf19dcffa03caa03a6a4409c89277/0_139_4154_2493/master/4154.jpg?width=460&quality=85&auto=format&fit=max&s=b8717e395cd694012a6c321efe961de4\",\"title\":\"Leicester City 3-1 West Ham United: Premier League – as it happened\",\"gmtTime\":\"2024-12-03T22:47:12.000Z\",\"sourceStr\":\"The Guardian\",\"sourceIconUrl\":\"https://images.fotmob.com/image_resources/news/guardian.png\",\"page\":{\"url\":\"https://www.theguardian.com/football/live/2024/dec/03/leicester-city-v-west-ham-united-premier-league-live\"}},{\"imageUrl\":\"https://e1.365dm.com/24/12/1920x1080/skysports-kevin-de-bruyne-pep-guardiola_6765388.jpg?20241203145622\",\"title\":\"Pep: I'd love prime De Bruyne - but he does not have that anymore\",\"gmtTime\":\"2024-12-03T22:30:00.000Z\",\"sourceStr\":\"Sky Sports\",\"sourceIconUrl\":\"https://images.fotmob.com/image_resources/news/skysports.png\",\"page\":{\"url\":\"http://www.skysports.com/football/news/11661/13266033/kevin-de-bruyne-pep-guardiola-desperate-for-man-city-midfielder-to-return-to-form-amid-injury-struggles\"}},{\"imageUrl\":\"https://images.performgroup.com/di/library/omnisport/3a/8a/ruud-van-nistelrooy_qdpfkqeygi8r11qc53vm3j14n.jpg?t=-1825473981&w=640&h=360\",\"title\":\"Leicester City 3-1 West Ham: Van Nistelrooy makes winning start with Foxes\",\"gmtTime\":\"2024-12-03T22:29:53.000Z\",\"sourceStr\":\"FotMob\",\"lead\":\"Leicester City managed their first win in six games as Ruud van Nistelrooy got off to a winning start in Wednesday's clash with West Ham.\",\"sourceIconUrl\":\"https://images.fotmob.com/image_resources/news/fotmob.png\",\"page\":{\"url\":\"/news/172nhb4uq8nsr1lrmdknr1tepn-leicester-city-3-1-west-ham-van-nistelrooy-makes-winning-start-foxes\"}},{\"imageUrl\":\"https://i.guim.co.uk/img/media/ad861112539c6b52f2299e7ceb251ed30cf3ded1/0_134_5124_3075/master/5124.jpg?width=460&quality=85&auto=format&fit=max&s=bb17cd43b3e77776178e8074f2df1cd0\",\"title\":\"Vardy starts Van Nistelrooy welcoming party as Leicester add to West Ham woe\",\"gmtTime\":\"2024-12-03T22:21:04.000Z\",\"sourceStr\":\"The Guardian\",\"sourceIconUrl\":\"https://images.fotmob.com/image_resources/news/guardian.png\",\"page\":{\"url\":\"https://www.theguardian.com/football/2024/dec/03/leicester-west-ham-premier-league-match-report\"}},{\"imageUrl\":\"https://images2.minutemediacdn.com/image/upload/c_crop,w_4413,h_2482,x_0,y_173/c_fill,w_912,h_516,f_auto,q_auto,g_auto/images/GettyImages/mmsport/90min_en_international_web/01je77rncxgpfmq6z039.jpg\",\"title\":\"Man Utd announce further injury setback for Luke Shaw\",\"gmtTime\":\"2024-12-03T22:20:00.000Z\",\"sourceStr\":\"90min\",\"sourceIconUrl\":\"https://images.fotmob.com/image_resources/news/small90min.png\",\"page\":{\"url\":\"/embed/news/01je76t82q7w/man-utd-announce-further-injury-setback-luke-shaw\"}},{\"imageUrl\":\"https://images.performgroup.com/di/library/omnisport/ee/b5/jean-philippe-mateta-ismaila-sarr_10ajppy88v6nb1hiesb2jate0h.jpg?t=-1829801981&w=640&h=360\",\"title\":\"Ipswich Town 0-1 Crystal Palace: Mateta seals Eagles' first away win of season\",\"gmtTime\":\"2024-12-03T21:46:43.000Z\",\"sourceStr\":\"FotMob\",\"lead\":\"Crystal Palace's wait for a first Premier League away win of the season is over, but a maiden home victory continues to elude Ipswich Town.\",\"sourceIconUrl\":\"https://images.fotmob.com/image_resources/news/fotmob.png\",\"page\":{\"url\":\"/news/1013om1qj4y2z17wpjy4cu7tyo-ipswich-town-0-1-crystal-palace-mateta-seals-eagles-first-away-win-season\"}},{\"imageUrl\":\"https://i.guim.co.uk/img/media/fb5b0567dd9bfe33f6f1688838124b6034b392a4/122_1_4520_2713/master/4520.jpg?width=460&quality=85&auto=format&fit=max&s=a612965455cf6af398792a770f72d7ce\",\"title\":\"Clinical Mateta dashes Ipswich’s hopes in first away win for Crystal Palace\",\"gmtTime\":\"2024-12-03T21:45:05.000Z\",\"sourceStr\":\"The Guardian\",\"sourceIconUrl\":\"https://images.fotmob.com/image_resources/news/guardian.png\",\"page\":{\"url\":\"https://www.theguardian.com/football/2024/dec/03/ipswich-crystal-palace-premier-league-match-report\"}}]}}\n"
     ]
    }
   ],
   "source": [
    "import http.client\n",
    "\n",
    "conn = http.client.HTTPSConnection(\"free-api-live-football-data.p.rapidapi.com\")\n",
    "\n",
    "headers = {\n",
    "    'x-rapidapi-key': \"3c99262600msh5da2d3d13033579p1c677ejsnc94020f9ff0e\",\n",
    "\n",
    "    'x-rapidapi-host': \"free-api-live-football-data.p.rapidapi.com\"\n",
    "}\n",
    "\n",
    "# conn.request(\"GET\", \"/football-get-trendingnews\", headers=headers)\n",
    "conn.request(\"GET\", \"/football-get-league-news?leagueid=47&page=1\", headers=headers) # league\n",
    "# conn.request(\"GET\", \"/football-get-team-news?teamid=8650&page=1\", headers=headers) # teams\n",
    "# conn.request(\"GET\", \"/football-get-player-news?playerid=8650&page=1\", headers=headers) # player\n",
    "\n",
    "# conn.request(\"GET\", \"/football-get-all-transfers?page=1\", headers=headers)\n",
    "# conn.request(\"GET\", \"/football-get-top-transfers?page=1\", headers=headers)\n",
    "# conn.request(\"GET\", \"/football-get-market-value-transfers?page=1\", headers=headers)\n",
    "# conn.request(\"GET\", \"/football-get-league-transfers?leagueid=47\", headers=headers)\n",
    "# conn.request(\"GET\", \"/football-get-team-contract-extension-transfers?teamid=8650\", headers=headers)\n",
    "# conn.request(\"GET\", \"/football-get-team-players-in-transfers?teamid=8650\", headers=headers)\n",
    "# conn.request(\"GET\", \"/football-get-team-players-out-transfers?teamid=8650\", headers=headers)\n",
    "\n",
    "\n",
    "res = conn.getresponse()\n",
    "data = res.read()\n",
    "\n",
    "print(data.decode(\"utf-8\"))"
   ]
  }
 ],
 "metadata": {
  "kernelspec": {
   "display_name": "Python 3",
   "language": "python",
   "name": "python3"
  },
  "language_info": {
   "codemirror_mode": {
    "name": "ipython",
    "version": 3
   },
   "file_extension": ".py",
   "mimetype": "text/x-python",
   "name": "python",
   "nbconvert_exporter": "python",
   "pygments_lexer": "ipython3",
   "version": "3.11.3"
  }
 },
 "nbformat": 4,
 "nbformat_minor": 2
}
