{
 "cells": [
  {
   "cell_type": "code",
   "execution_count": 16,
   "metadata": {
    "jupyter": {
     "is_executing": true
    }
   },
   "outputs": [
    {
     "name": "stdout",
     "output_type": "stream",
     "text": [
      "{\"status\":\"success\",\"response\":{\"transfers\":[{\"name\":\"Kevin Denkey\",\"playerId\":820477,\"position\":{\"label\":\"ST\",\"key\":\"striker_short\"},\"transferDate\":\"2024-11-22T01:17:59Z\",\"transferText\":[null,null,null],\"fromClub\":\"Cercle Brugge\",\"fromClubId\":9984,\"toClub\":\"Cincinnati\",\"toClubId\":722265,\"fee\":{\"feeText\":\"fee\",\"localizedFeeText\":\"transfer_fee\",\"value\":15300000},\"transferType\":{\"text\":\"contract\",\"localizationKey\":\"contract\"},\"contractExtension\":false,\"onLoan\":false,\"fromDate\":\"2025-01-01T00:00:00Z\",\"toDate\":\"2028-12-31T00:00:00Z\",\"marketValue\":16000000},{\"name\":\"Paul Pogba\",\"playerId\":248453,\"position\":{\"label\":\"AM\",\"key\":\"centerattackingmidfielder_short\"},\"transferDate\":\"2024-11-15T20:08:04Z\",\"transferText\":[null,null,null],\"fromClub\":\"Juventus\",\"fromClubId\":9885,\"toClub\":\"Free agent\",\"toClubId\":2,\"fee\":null,\"transferType\":{\"text\":\"contract\",\"localizationKey\":\"contract\"},\"contractExtension\":false,\"onLoan\":false,\"fromDate\":\"2024-11-30T00:00:00Z\",\"marketValue\":16000000},{\"name\":\"Raphaël Varane\",\"playerId\":230982,\"position\":{\"label\":\"CB\",\"key\":\"centerback_short\"},\"transferDate\":\"2024-09-25T10:40:11Z\",\"transferText\":[null,null,null],\"fromClub\":\"Como\",\"fromClubId\":10171,\"toClub\":\"Free agent\",\"toClubId\":2,\"fee\":null,\"transferType\":{\"text\":\"contract\",\"localizationKey\":\"contract\"},\"contractExtension\":false,\"onLoan\":false,\"fromDate\":\"2024-09-25T00:00:00Z\",\"marketValue\":15000000},{\"name\":\"Adrien Rabiot\",\"playerId\":352879,\"position\":{\"label\":\"CM\",\"key\":\"centermidfielder_short\"},\"transferDate\":\"2024-09-17T19:17:18Z\",\"transferText\":[null,null,null],\"fromClub\":\"Free agent\",\"fromClubId\":2,\"toClub\":\"Marseille\",\"toClubId\":8592,\"fee\":{\"feeText\":\"free transfer\",\"localizedFeeText\":\"transfer_type_free_transfer\"},\"transferType\":{\"text\":\"contract\",\"localizationKey\":\"contract\"},\"contractExtension\":false,\"onLoan\":false,\"fromDate\":\"2024-09-17T00:00:00Z\",\"toDate\":\"2026-06-30T00:00:00Z\",\"marketValue\":33000000},{\"name\":\"Oumar Solet\",\"playerId\":866708,\"position\":{\"label\":\"CB\",\"key\":\"centerback_short\"},\"transferDate\":\"2024-09-15T09:55:43Z\",\"transferText\":[null,null,null],\"fromClub\":\"Salzburg\",\"fromClubId\":10013,\"toClub\":\"Free agent\",\"toClubId\":2,\"fee\":null,\"transferType\":{\"text\":\"contract\",\"localizationKey\":\"contract\"},\"contractExtension\":false,\"onLoan\":false,\"fromDate\":\"2024-09-14T00:00:00Z\",\"marketValue\":16000000},{\"name\":\"Roland Sallai\",\"playerId\":583601,\"position\":{\"label\":\"AM\",\"key\":\"centerattackingmidfielder_short\"},\"transferDate\":\"2024-09-14T07:15:03Z\",\"transferText\":[null,null,null],\"fromClub\":\"Freiburg\",\"fromClubId\":8358,\"toClub\":\"Galatasaray\",\"toClubId\":8637,\"fee\":{\"feeText\":\"fee\",\"localizedFeeText\":\"transfer_fee\",\"value\":6000000},\"transferType\":{\"text\":\"contract\",\"localizationKey\":\"contract\"},\"contractExtension\":false,\"onLoan\":false,\"fromDate\":\"2024-09-13T00:00:00Z\",\"toDate\":\"2028-06-30T00:00:00Z\",\"marketValue\":17000000}],\"hits\":6}}\n"
     ]
    }
   ],
   "source": [
    "import http.client\n",
    "import json\n",
    "\n",
    "conn = http.client.HTTPSConnection(\"free-api-live-football-data.p.rapidapi.com\")\n",
    "\n",
    "headers = {\n",
    "    'x-rapidapi-key': \"3c99262600msh5da2d3d13033579p1c677ejsnc94020f9ff0e\",\n",
    "\n",
    "    'x-rapidapi-host': \"free-api-live-football-data.p.rapidapi.com\"\n",
    "}\n",
    "\n",
    "# search\n",
    "\n",
    "# get top transfers\n",
    "conn.request(\"GET\", \"/football-get-top-transfers\", headers=headers)\n",
    "\n",
    "# # get top market values\n",
    "# conn.request(\"GET\", \"/football-get-market-value-transfers?page=1\", headers=headers)\n",
    "\n",
    "# # get top players by assists?  --> leagueId --> + league BD\n",
    "# conn.request(\"GET\", \"/football-get-top-players-by-assists?leagueid=47\", headers=headers)\n",
    "\n",
    "# # by goals\n",
    "# conn.request(\"GET\", \"/football-get-top-players-by-goals?leagueid=47\", headers=headers)\n",
    "\n",
    "# # by rating\n",
    "# conn.request(\"GET\", \"/football-get-top-players-by-rating?leagueid=47\", headers=headers)\n",
    "\n",
    "# # get popular league\n",
    "# conn.request(\"GET\", \"/football-popular-leagues\", headers=headers)\n",
    "\n",
    "\n",
    "\n",
    "res = conn.getresponse()\n",
    "data = res.read()\n",
    "\n",
    "print(data.decode(\"utf-8\"))"
   ]
  },
  {
   "cell_type": "code",
   "execution_count": 17,
   "metadata": {},
   "outputs": [
    {
     "name": "stdout",
     "output_type": "stream",
     "text": [
      "2-data.sql generated successfully at ../services/recommender-db/sql/2-data.sql\n"
     ]
    }
   ],
   "source": [
    "# Extract transfers data\n",
    "conn.request(\"GET\", \"/football-get-top-transfers?page=1\", headers=headers)\n",
    "res = conn.getresponse()\n",
    "data = res.read()\n",
    "api_response = json.loads(data.decode(\"utf-8\")) \n",
    "\n",
    "transfers = api_response[\"response\"][\"transfers\"]\n",
    "\n",
    "# Generate SQL INSERT statements\n",
    "insert_statements = []\n",
    "for transfer in transfers:\n",
    "    name = transfer[\"name\"].replace(\"'\", \"''\")  # Escape single quotes\n",
    "    player_id = transfer[\"playerId\"]\n",
    "    position = transfer[\"position\"][\"label\"]\n",
    "    transfer_date = transfer[\"transferDate\"].replace(\"T\", \" \").replace(\"Z\", \"\")\n",
    "    from_club = transfer[\"fromClub\"].replace(\"'\", \"''\")\n",
    "    from_club_id = transfer[\"fromClubId\"]\n",
    "    to_club = transfer[\"toClub\"].replace(\"'\", \"''\")\n",
    "    to_club_id = transfer[\"toClubId\"]\n",
    "    \n",
    "    # Handle 'fee' key and its 'value' safely\n",
    "    fee = transfer.get(\"fee\")  # Get the 'fee' dictionary or None if it doesn't exist\n",
    "    fee_value = fee[\"value\"] if fee and \"value\" in fee else \"NULL\"  # Safely get 'value' or default to \"NULL\"\n",
    "    \n",
    "    transfer_type = transfer[\"transferType\"][\"text\"]\n",
    "    contract_extension = \"TRUE\" if transfer[\"contractExtension\"] else \"FALSE\"\n",
    "    on_loan = \"TRUE\" if transfer[\"onLoan\"] else \"FALSE\"\n",
    "    market_value = transfer[\"marketValue\"]\n",
    "\n",
    "    insert_statements.append(\n",
    "        f\"INSERT INTO football_transfers (name, player_id, position, transfer_date, \"\n",
    "        f\"from_club, from_club_id, to_club, to_club_id, fee_value, transfer_type, \"\n",
    "        f\"contract_extension, on_loan, market_value) VALUES ('{name}', {player_id}, '{position}', \"\n",
    "        f\"'{transfer_date}', '{from_club}', {from_club_id}, '{to_club}', {to_club_id}, \"\n",
    "        f\"{fee_value}, '{transfer_type}', {contract_extension}, {on_loan}, {market_value});\"\n",
    "    )\n",
    "# Write to 2-data.sql\n",
    "sql_file_path = \"../services/recommender-db/sql/2-data.sql\"\n",
    "with open(sql_file_path, \"w\", encoding=\"utf-8\") as file:  # Specify UTF-8 encoding\n",
    "    file.write(\"-- Generated SQL insert statements for football transfers\\n\")\n",
    "    file.write(\"\\n\".join(insert_statements))\n",
    "\n",
    "print(f\"2-data.sql generated successfully at {sql_file_path}\")\n"
   ]
  },
  {
   "cell_type": "code",
   "execution_count": 18,
   "metadata": {},
   "outputs": [],
   "source": [
    "import http.client\n",
    "import json\n",
    "\n",
    "# Constants for the API\n",
    "BASE_URL = \"free-api-live-football-data.p.rapidapi.com\"\n",
    "HEADERS = {\n",
    "    'x-rapidapi-key': \"3c99262600msh5da2d3d13033579p1c677ejsnc94020f9ff0e\",\n",
    "    'x-rapidapi-host': BASE_URL\n",
    "}\n",
    "\n",
    "# Initialize HTTP connection\n",
    "conn = http.client.HTTPSConnection(BASE_URL)\n",
    "\n"
   ]
  },
  {
   "cell_type": "code",
   "execution_count": 19,
   "metadata": {},
   "outputs": [],
   "source": [
    "def fetch_data(endpoint, params=None):\n",
    "    if params:\n",
    "        endpoint = f\"{endpoint}?{params}\"\n",
    "    conn.request(\"GET\", endpoint, headers=HEADERS)\n",
    "    res = conn.getresponse()\n",
    "    data = res.read()\n",
    "    return json.loads(data.decode(\"utf-8\"))\n",
    "\n",
    "\n",
    "def process_records(records, table_name, schema):\n",
    "    insert_statements = []\n",
    "    for record in records:\n",
    "        values = []\n",
    "        for field_name, default_value, is_string in schema:\n",
    "            value = record.get(field_name, default_value)\n",
    "            if is_string and value is not None:\n",
    "                value = value.replace(\"'\", \"''\")  # Escape single quotes\n",
    "                value = f\"'{value}'\"\n",
    "            elif value is None:\n",
    "                value = \"NULL\"\n",
    "            values.append(value)\n",
    "        values_str = \", \".join(map(str, values))\n",
    "        insert_statements.append(f\"INSERT INTO {table_name} VALUES ({values_str});\")\n",
    "    return insert_statements\n",
    "\n",
    "def write_to_sql_file(file_path, insert_statements, section_title=None):\n",
    "    with open(file_path, \"a\", encoding=\"utf-8\") as file:\n",
    "        if section_title:\n",
    "            file.write(f\"-- {section_title}\\n\")\n",
    "        file.write(\"\\n\".join(insert_statements) + \"\\n\")\n"
   ]
  },
  {
   "cell_type": "code",
   "execution_count": 20,
   "metadata": {},
   "outputs": [],
   "source": [
    "transfers_schema = [\n",
    "    (\"name\", \"NULL\", True),\n",
    "    (\"playerId\", \"NULL\", False),\n",
    "    (\"position.label\", \"NULL\", True),  # Nested key\n",
    "    (\"transferDate\", \"NULL\", True),\n",
    "    (\"fromClub\", \"NULL\", True),\n",
    "    (\"fromClubId\", \"NULL\", False),\n",
    "    (\"toClub\", \"NULL\", True),\n",
    "    (\"toClubId\", \"NULL\", False),\n",
    "    (\"fee.value\", \"NULL\", False),  # Nested key\n",
    "    (\"transferType.text\", \"NULL\", True),\n",
    "    (\"contractExtension\", False, False),\n",
    "    (\"onLoan\", False, False),\n",
    "    (\"marketValue\", \"NULL\", False),\n",
    "]\n",
    "\n",
    "transfers_data = fetch_data(\"/football-get-top-transfers?page=1\")\n",
    "transfers = transfers_data[\"response\"][\"transfers\"]\n",
    "transfer_statements = process_records(transfers, \"football_transfers\", transfers_schema)\n",
    "write_to_sql_file(sql_file_path, transfer_statements, \"Top Transfers\")"
   ]
  }
 ],
 "metadata": {
  "kernelspec": {
   "display_name": "Python 3",
   "language": "python",
   "name": "python3"
  },
  "language_info": {
   "codemirror_mode": {
    "name": "ipython",
    "version": 3
   },
   "file_extension": ".py",
   "mimetype": "text/x-python",
   "name": "python",
   "nbconvert_exporter": "python",
   "pygments_lexer": "ipython3",
   "version": "3.11.3"
  }
 },
 "nbformat": 4,
 "nbformat_minor": 2
}
