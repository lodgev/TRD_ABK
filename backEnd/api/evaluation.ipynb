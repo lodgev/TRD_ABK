{
 "cells": [
  {
   "cell_type": "code",
   "execution_count": 1,
   "metadata": {},
   "outputs": [],
   "source": [
    "import numpy as np\n",
    "import pandas as pd\n",
    "from math import log2\n",
    "\n",
    "from sklearn.feature_extraction.text import TfidfVectorizer\n",
    "\n",
    "from sklearn.metrics import precision_score, recall_score, f1_score, mean_squared_error\n",
    "\n",
    "from sklearn.metrics.pairwise import cosine_similarity"
   ]
  },
  {
   "cell_type": "code",
   "execution_count": 2,
   "metadata": {},
   "outputs": [],
   "source": [
    "football_news_df = pd.read_csv(\"news_test.csv\", encoding=\"latin1\")\n",
    "matches_df = pd.read_csv(\"matches.csv\", encoding=\"latin1\")\n",
    "users_df = pd.read_csv(\"users.csv\")\n",
    "bets_df = pd.read_csv(\"bets.csv\")\n",
    "feedback_df = pd.read_csv('feedback.csv')"
   ]
  },
  {
   "cell_type": "markdown",
   "metadata": {},
   "source": [
    "# Part 1: Recommendation system"
   ]
  },
  {
   "cell_type": "code",
   "execution_count": 3,
   "metadata": {},
   "outputs": [],
   "source": [
    "def preprocess_data(news_df):\n",
    "    news_df = news_df.dropna(subset=[\"Content\", \"Title\"])\n",
    "    news_df[\"Content\"] = news_df[\"Content\"].fillna(\"\")\n",
    "    return news_df\n",
    "\n",
    "\n",
    "def recommend_articles(user_id, football_news_df, bets_df, feedback_df, top_n=20):\n",
    "    user_bets = bets_df[bets_df['user_id'] == user_id]\n",
    "    preferred_teams = user_bets['selected_team'].unique()\n",
    "\n",
    "    relevant_articles = football_news_df[\n",
    "        football_news_df['Content'].str.contains('|'.join(preferred_teams), case=False, na=False)\n",
    "    ]['News ID'].tolist()\n",
    "\n",
    "    not_interested = feedback_df[\n",
    "        (feedback_df['user_id'] == user_id) & (feedback_df['action'] == 'not_interested')\n",
    "    ]['news_id'].tolist()\n",
    "\n",
    "    filtered_articles = football_news_df[~football_news_df['News ID'].isin(not_interested)]\n",
    "\n",
    "    tfidf_vectorizer = TfidfVectorizer(stop_words='english')\n",
    "    tfidf_matrix = tfidf_vectorizer.fit_transform(filtered_articles['Content'])\n",
    "\n",
    "    similarity_matrix = cosine_similarity(tfidf_matrix, tfidf_matrix)\n",
    "\n",
    "    user_feedback = feedback_df[feedback_df['user_id'] == user_id]\n",
    "    for _, feedback in user_feedback.iterrows():\n",
    "        if feedback['action'] == 'rated':\n",
    "            news_index = filtered_articles[filtered_articles['News ID'] == feedback['news_id']].index[0]\n",
    "            similarity_matrix[:, news_index] *= (1 + feedback['rating'] / 5.0)\n",
    "\n",
    "    recommended_indices = similarity_matrix.sum(axis=1).argsort()[-top_n:][::-1]\n",
    "    recommendations = filtered_articles.iloc[recommended_indices]\n",
    "    \n",
    "    return recommendations['News ID'].tolist()\n"
   ]
  },
  {
   "cell_type": "markdown",
   "metadata": {},
   "source": [
    "## 1. Algo: tf-idf"
   ]
  },
  {
   "cell_type": "code",
   "execution_count": 4,
   "metadata": {},
   "outputs": [],
   "source": [
    "class RecommendationSystem:\n",
    "    def __init__(self, football_news_df, bets_df, feedback_df):\n",
    "        self.football_news_df = football_news_df\n",
    "        self.bets_df = bets_df\n",
    "        self.feedback_df = feedback_df\n",
    "\n",
    "    def recommend(self, user_id, k=10):\n",
    "        return recommend_articles(\n",
    "            user_id=user_id,\n",
    "            football_news_df=self.football_news_df,\n",
    "            bets_df=self.bets_df,\n",
    "            feedback_df=self.feedback_df,\n",
    "            top_n=k\n",
    "        )\n"
   ]
  },
  {
   "cell_type": "code",
   "execution_count": 6,
   "metadata": {},
   "outputs": [],
   "source": [
    "# system_instance\n",
    "system_instance = RecommendationSystem(football_news_df, bets_df, feedback_df)\n",
    "\n",
    "# content_embeddings\n",
    "tfidf_vectorizer = TfidfVectorizer(stop_words='english')\n",
    "content_embeddings = tfidf_vectorizer.fit_transform(football_news_df['Content']).toarray()\n",
    "\n",
    "news_id_to_index = {news_id: idx for idx, news_id in enumerate(football_news_df['News ID'])}\n",
    "\n",
    "# global_popularity\n",
    "\n",
    "global_popularity = feedback_df['news_id'].value_counts().to_dict()\n",
    "\n",
    "max_interactions = max(global_popularity.values(), default=1)\n",
    "global_popularity = {news_id: count / max_interactions for news_id, count in global_popularity.items()}\n",
    "\n",
    "\n",
    "\n"
   ]
  },
  {
   "cell_type": "code",
   "execution_count": 7,
   "metadata": {},
   "outputs": [],
   "source": [
    "def recommend_articles(user_id, football_news_df, bets_df, feedback_df, top_n=20):\n",
    "    user_bets = bets_df[bets_df['user_id'] == user_id]\n",
    "    preferred_teams = user_bets['selected_team'].unique()\n",
    "\n",
    "    # Filter articles related to the user's preferred teams\n",
    "    relevant_articles = football_news_df[\n",
    "        football_news_df['Content'].str.contains('|'.join(preferred_teams), case=False, na=False)\n",
    "    ]['News ID'].tolist()\n",
    "\n",
    "    # Handle case where no articles are relevant\n",
    "    if not relevant_articles:\n",
    "        return []  # Return an empty list if no articles are relevant\n",
    "\n",
    "    not_interested = feedback_df[\n",
    "        (feedback_df['user_id'] == user_id) & (feedback_df['action'] == 'not_interested')\n",
    "    ]['news_id'].tolist()\n",
    "\n",
    "    filtered_articles = football_news_df[~football_news_df['News ID'].isin(not_interested)]\n",
    "\n",
    "    tfidf_vectorizer = TfidfVectorizer(stop_words='english')\n",
    "    tfidf_matrix = tfidf_vectorizer.fit_transform(filtered_articles['Content'])\n",
    "\n",
    "    similarity_matrix = cosine_similarity(tfidf_matrix, tfidf_matrix)\n",
    "\n",
    "    user_feedback = feedback_df[feedback_df['user_id'] == user_id]\n",
    "    for _, feedback in user_feedback.iterrows():\n",
    "        if feedback['action'] == 'rated':\n",
    "            news_index = filtered_articles[filtered_articles['News ID'] == feedback['news_id']].index[0]\n",
    "            similarity_matrix[:, news_index] *= (1 + feedback['rating'] / 5.0)\n",
    "\n",
    "    if similarity_matrix.shape[0] == 0:\n",
    "        return []  # Return empty if no recommendations are possible\n",
    "\n",
    "    recommended_indices = similarity_matrix.sum(axis=1).argsort()[-top_n:][::-1]\n",
    "    recommendations = filtered_articles.iloc[recommended_indices]\n",
    "\n",
    "    return recommendations['News ID'].tolist()"
   ]
  },
  {
   "cell_type": "markdown",
   "metadata": {},
   "source": [
    "# Part 2: Evaluation of recommendation system"
   ]
  },
  {
   "cell_type": "markdown",
   "metadata": {},
   "source": [
    "## === Evaluation functions ==="
   ]
  },
  {
   "cell_type": "markdown",
   "metadata": {},
   "source": [
    "### 1. Predictive quality metrics"
   ]
  },
  {
   "cell_type": "code",
   "execution_count": 8,
   "metadata": {},
   "outputs": [],
   "source": [
    "def precision_at_k(recommended, relevant, k):\n",
    "    recommended_at_k = recommended[:k]\n",
    "    hits = len(set(recommended_at_k) & set(relevant))\n",
    "    return hits / k\n",
    "\n",
    "\n",
    "def recall_at_k(recommended, relevant, k):\n",
    "    recommended_at_k = recommended[:k]\n",
    "    hits = len(set(recommended_at_k) & set(relevant))\n",
    "    return hits / len(relevant) if len(relevant) > 0 else 0\n",
    "\n",
    "\n",
    "def f_score_at_k(precision, recall):\n",
    "    return (\n",
    "        2 * (precision * recall) / (precision + recall)\n",
    "        if (precision + recall) > 0\n",
    "        else 0\n",
    "    )"
   ]
  },
  {
   "cell_type": "markdown",
   "metadata": {},
   "source": [
    "### 2. Ranking quality metrics"
   ]
  },
  {
   "cell_type": "code",
   "execution_count": 9,
   "metadata": {},
   "outputs": [],
   "source": [
    "def mrr(recommended, relevant):\n",
    "    for i, item in enumerate(recommended):\n",
    "        if item in relevant:\n",
    "            return 1 / (i + 1)\n",
    "    return 0\n",
    "\n",
    "\n",
    "def average_precision(recommended, relevant):\n",
    "    hits, precision_sum = 0, 0\n",
    "    for i, item in enumerate(recommended):\n",
    "        if item in relevant:\n",
    "            hits += 1\n",
    "            precision_sum += hits / (i + 1)\n",
    "    return precision_sum / len(relevant) if relevant else 0\n",
    "\n",
    "\n",
    "def ndcg(recommended, relevant, k):\n",
    "    recommended_at_k = recommended[:k]\n",
    "    dcg = sum(\n",
    "        [1 / log2(i + 2) if recommended_at_k[i] in relevant else 0 for i in range(k)]\n",
    "    )\n",
    "    idcg = sum([1 / log2(i + 2) for i in range(min(len(relevant), k))])\n",
    "    return dcg / idcg if idcg > 0 else 0"
   ]
  },
  {
   "cell_type": "code",
   "execution_count": null,
   "metadata": {},
   "outputs": [],
   "source": []
  },
  {
   "cell_type": "markdown",
   "metadata": {},
   "source": [
    "### 3. Behavioral metrics"
   ]
  },
  {
   "cell_type": "code",
   "execution_count": 10,
   "metadata": {},
   "outputs": [],
   "source": [
    "def diversity(recommended, content_embeddings):\n",
    "    similarities = cosine_similarity(content_embeddings[recommended])\n",
    "    return 1 - np.mean(similarities[np.triu_indices(len(similarities), k=1)])\n",
    "\n",
    "\n",
    "def novelty(recommended, global_popularity):\n",
    "    return np.mean([1 - global_popularity[item] for item in recommended])\n",
    "\n",
    "\n",
    "def serendipity(recommended, relevant, global_popularity):\n",
    "    unexpected_items = [item for item in recommended if item not in relevant]\n",
    "    return np.mean([1 - global_popularity[item] for item in unexpected_items])"
   ]
  },
  {
   "cell_type": "markdown",
   "metadata": {},
   "source": [
    "## === Evaluation pipeline ==="
   ]
  },
  {
   "cell_type": "code",
   "execution_count": 11,
   "metadata": {},
   "outputs": [],
   "source": [
    "def evaluate_system(system, test_data, content_embeddings, global_popularity, k=10):\n",
    "    precision_scores, recall_scores, f_scores = [], [], []\n",
    "    mrr_scores, map_scores, ndcg_scores = [], [], []\n",
    "    diversity_scores, novelty_scores, serendipity_scores = [], [], []\n",
    "\n",
    "    for user_id, user_data in test_data.groupby(\"user_id\"):\n",
    "        relevant = set(user_data[\"relevant_items\"].values[0])\n",
    "        recommended = system.recommend(user_id, k=k)\n",
    "\n",
    "        # Skip evaluation if no recommendations are generated\n",
    "        if not recommended:\n",
    "            continue\n",
    "\n",
    "        # Predictive metrics\n",
    "        precision = precision_at_k(recommended, relevant, k)\n",
    "        recall = recall_at_k(recommended, relevant, k)\n",
    "        f_score = f_score_at_k(precision, recall)\n",
    "\n",
    "        # Ranking metrics\n",
    "        mrr_score = mrr(recommended, relevant)\n",
    "        map_score = average_precision(recommended, relevant)\n",
    "        ndcg_score = ndcg(recommended, relevant, k)\n",
    "\n",
    "        # Behavioral metrics\n",
    "        diversity_score = diversity(recommended, content_embeddings)\n",
    "        novelty_score = novelty(recommended, global_popularity)\n",
    "        serendipity_score = serendipity(recommended, relevant, global_popularity)\n",
    "\n",
    "        # Append scores\n",
    "        precision_scores.append(precision)\n",
    "        recall_scores.append(recall)\n",
    "        f_scores.append(f_score)\n",
    "        mrr_scores.append(mrr_score)\n",
    "        map_scores.append(map_score)\n",
    "        ndcg_scores.append(ndcg_score)\n",
    "        diversity_scores.append(diversity_score)\n",
    "        novelty_scores.append(novelty_score)\n",
    "        serendipity_scores.append(serendipity_score)\n",
    "\n",
    "    return {\n",
    "        \"Precision@K\": np.mean(precision_scores) if precision_scores else 0,\n",
    "        \"Recall@K\": np.mean(recall_scores) if recall_scores else 0,\n",
    "        \"F-Score@K\": np.mean(f_scores) if f_scores else 0,\n",
    "        \"MRR\": np.mean(mrr_scores) if mrr_scores else 0,\n",
    "        \"MAP\": np.mean(map_scores) if map_scores else 0,\n",
    "        \"NDCG\": np.mean(ndcg_scores) if ndcg_scores else 0,\n",
    "        \"Diversity\": np.mean(diversity_scores) if diversity_scores else 0,\n",
    "        \"Novelty\": np.mean(novelty_scores) if novelty_scores else 0,\n",
    "        \"Serendipity\": np.mean(serendipity_scores) if serendipity_scores else 0,\n",
    "    }"
   ]
  },
  {
   "cell_type": "markdown",
   "metadata": {},
   "source": [
    "### 3. Testing"
   ]
  },
  {
   "cell_type": "code",
   "execution_count": 12,
   "metadata": {},
   "outputs": [],
   "source": [
    "def generate_test_data(users_df, bets_df, feedback_df, football_news_df, top_n=5):\n",
    "    test_data = []\n",
    "\n",
    "    for user_id in users_df['id']:\n",
    "        user_bets = bets_df[bets_df['user_id'] == user_id]\n",
    "        preferred_teams = user_bets['selected_team'].unique()\n",
    "\n",
    "        relevant_articles = football_news_df[\n",
    "            football_news_df['Content'].str.contains('|'.join(preferred_teams), case=False, na=False)\n",
    "        ]['News ID'].tolist()\n",
    "\n",
    "        positive_feedback = feedback_df[\n",
    "            (feedback_df['user_id'] == user_id) & \n",
    "            (feedback_df['action'] == 'rated') & \n",
    "            (feedback_df['rating'] > 3)\n",
    "        ]['news_id'].tolist()\n",
    "\n",
    "        all_relevant = list(set(relevant_articles + positive_feedback))\n",
    "\n",
    "        np.random.shuffle(all_relevant)\n",
    "        relevant_items = all_relevant[:top_n]\n",
    "\n",
    "        if relevant_items:\n",
    "            test_data.append({'user_id': user_id, 'relevant_items': relevant_items})\n",
    "\n",
    "    return pd.DataFrame(test_data)\n"
   ]
  },
  {
   "cell_type": "code",
   "execution_count": 13,
   "metadata": {},
   "outputs": [
    {
     "name": "stdout",
     "output_type": "stream",
     "text": [
      "  user_id                                     relevant_items\n",
      "0   user1  [F8A13A98CF86B50D309D351C29548DFB, 94C4B539EF0...\n",
      "1   user2  [A22F8CCDD1E49ADC580862AA628391F5, 1C66D7CABC6...\n",
      "2   user3  [8E8E0613343445244062F87A9D7EBBBD, A041C0AE64E...\n"
     ]
    },
    {
     "ename": "IndexError",
     "evalue": "index 0 is out of bounds for axis 0 with size 0",
     "output_type": "error",
     "traceback": [
      "\u001b[1;31m---------------------------------------------------------------------------\u001b[0m",
      "\u001b[1;31mIndexError\u001b[0m                                Traceback (most recent call last)",
      "Cell \u001b[1;32mIn[13], line 4\u001b[0m\n\u001b[0;32m      2\u001b[0m \u001b[38;5;28mprint\u001b[39m(test_data)\n\u001b[0;32m      3\u001b[0m \u001b[38;5;66;03m# Evaluate the recommendation system\u001b[39;00m\n\u001b[1;32m----> 4\u001b[0m results \u001b[38;5;241m=\u001b[39m \u001b[43mevaluate_system\u001b[49m\u001b[43m(\u001b[49m\n\u001b[0;32m      5\u001b[0m \u001b[43m    \u001b[49m\u001b[43msystem\u001b[49m\u001b[38;5;241;43m=\u001b[39;49m\u001b[43msystem_instance\u001b[49m\u001b[43m,\u001b[49m\n\u001b[0;32m      6\u001b[0m \u001b[43m    \u001b[49m\u001b[43mtest_data\u001b[49m\u001b[38;5;241;43m=\u001b[39;49m\u001b[43mtest_data\u001b[49m\u001b[43m,\u001b[49m\n\u001b[0;32m      7\u001b[0m \u001b[43m    \u001b[49m\u001b[43mcontent_embeddings\u001b[49m\u001b[38;5;241;43m=\u001b[39;49m\u001b[43mcontent_embeddings\u001b[49m\u001b[43m,\u001b[49m\n\u001b[0;32m      8\u001b[0m \u001b[43m    \u001b[49m\u001b[43mglobal_popularity\u001b[49m\u001b[38;5;241;43m=\u001b[39;49m\u001b[43mglobal_popularity\u001b[49m\u001b[43m,\u001b[49m\n\u001b[0;32m      9\u001b[0m \u001b[43m    \u001b[49m\u001b[43mk\u001b[49m\u001b[38;5;241;43m=\u001b[39;49m\u001b[38;5;241;43m10\u001b[39;49m\n\u001b[0;32m     10\u001b[0m \u001b[43m)\u001b[49m\n\u001b[0;32m     12\u001b[0m \u001b[38;5;28mprint\u001b[39m(\u001b[38;5;124m\"\u001b[39m\u001b[38;5;124mEvaluation Results:\u001b[39m\u001b[38;5;124m\"\u001b[39m)\n\u001b[0;32m     13\u001b[0m \u001b[38;5;28mprint\u001b[39m(results)\n",
      "Cell \u001b[1;32mIn[11], line 8\u001b[0m, in \u001b[0;36mevaluate_system\u001b[1;34m(system, test_data, content_embeddings, global_popularity, k)\u001b[0m\n\u001b[0;32m      6\u001b[0m \u001b[38;5;28;01mfor\u001b[39;00m user_id, user_data \u001b[38;5;129;01min\u001b[39;00m test_data\u001b[38;5;241m.\u001b[39mgroupby(\u001b[38;5;124m\"\u001b[39m\u001b[38;5;124muser_id\u001b[39m\u001b[38;5;124m\"\u001b[39m):\n\u001b[0;32m      7\u001b[0m     relevant \u001b[38;5;241m=\u001b[39m \u001b[38;5;28mset\u001b[39m(user_data[\u001b[38;5;124m\"\u001b[39m\u001b[38;5;124mrelevant_items\u001b[39m\u001b[38;5;124m\"\u001b[39m]\u001b[38;5;241m.\u001b[39mvalues[\u001b[38;5;241m0\u001b[39m])\n\u001b[1;32m----> 8\u001b[0m     recommended \u001b[38;5;241m=\u001b[39m \u001b[43msystem\u001b[49m\u001b[38;5;241;43m.\u001b[39;49m\u001b[43mrecommend\u001b[49m\u001b[43m(\u001b[49m\u001b[43muser_id\u001b[49m\u001b[43m,\u001b[49m\u001b[43m \u001b[49m\u001b[43mk\u001b[49m\u001b[38;5;241;43m=\u001b[39;49m\u001b[43mk\u001b[49m\u001b[43m)\u001b[49m\n\u001b[0;32m     10\u001b[0m     \u001b[38;5;66;03m# Skip evaluation if no recommendations are generated\u001b[39;00m\n\u001b[0;32m     11\u001b[0m     \u001b[38;5;28;01mif\u001b[39;00m \u001b[38;5;129;01mnot\u001b[39;00m recommended:\n",
      "Cell \u001b[1;32mIn[4], line 8\u001b[0m, in \u001b[0;36mRecommendationSystem.recommend\u001b[1;34m(self, user_id, k)\u001b[0m\n\u001b[0;32m      7\u001b[0m \u001b[38;5;28;01mdef\u001b[39;00m\u001b[38;5;250m \u001b[39m\u001b[38;5;21mrecommend\u001b[39m(\u001b[38;5;28mself\u001b[39m, user_id, k\u001b[38;5;241m=\u001b[39m\u001b[38;5;241m10\u001b[39m):\n\u001b[1;32m----> 8\u001b[0m     \u001b[38;5;28;01mreturn\u001b[39;00m \u001b[43mrecommend_articles\u001b[49m\u001b[43m(\u001b[49m\n\u001b[0;32m      9\u001b[0m \u001b[43m        \u001b[49m\u001b[43muser_id\u001b[49m\u001b[38;5;241;43m=\u001b[39;49m\u001b[43muser_id\u001b[49m\u001b[43m,\u001b[49m\n\u001b[0;32m     10\u001b[0m \u001b[43m        \u001b[49m\u001b[43mfootball_news_df\u001b[49m\u001b[38;5;241;43m=\u001b[39;49m\u001b[38;5;28;43mself\u001b[39;49m\u001b[38;5;241;43m.\u001b[39;49m\u001b[43mfootball_news_df\u001b[49m\u001b[43m,\u001b[49m\n\u001b[0;32m     11\u001b[0m \u001b[43m        \u001b[49m\u001b[43mbets_df\u001b[49m\u001b[38;5;241;43m=\u001b[39;49m\u001b[38;5;28;43mself\u001b[39;49m\u001b[38;5;241;43m.\u001b[39;49m\u001b[43mbets_df\u001b[49m\u001b[43m,\u001b[49m\n\u001b[0;32m     12\u001b[0m \u001b[43m        \u001b[49m\u001b[43mfeedback_df\u001b[49m\u001b[38;5;241;43m=\u001b[39;49m\u001b[38;5;28;43mself\u001b[39;49m\u001b[38;5;241;43m.\u001b[39;49m\u001b[43mfeedback_df\u001b[49m\u001b[43m,\u001b[49m\n\u001b[0;32m     13\u001b[0m \u001b[43m        \u001b[49m\u001b[43mtop_n\u001b[49m\u001b[38;5;241;43m=\u001b[39;49m\u001b[43mk\u001b[49m\n\u001b[0;32m     14\u001b[0m \u001b[43m    \u001b[49m\u001b[43m)\u001b[49m\n",
      "Cell \u001b[1;32mIn[7], line 28\u001b[0m, in \u001b[0;36mrecommend_articles\u001b[1;34m(user_id, football_news_df, bets_df, feedback_df, top_n)\u001b[0m\n\u001b[0;32m     26\u001b[0m \u001b[38;5;28;01mfor\u001b[39;00m _, feedback \u001b[38;5;129;01min\u001b[39;00m user_feedback\u001b[38;5;241m.\u001b[39miterrows():\n\u001b[0;32m     27\u001b[0m     \u001b[38;5;28;01mif\u001b[39;00m feedback[\u001b[38;5;124m'\u001b[39m\u001b[38;5;124maction\u001b[39m\u001b[38;5;124m'\u001b[39m] \u001b[38;5;241m==\u001b[39m \u001b[38;5;124m'\u001b[39m\u001b[38;5;124mrated\u001b[39m\u001b[38;5;124m'\u001b[39m:\n\u001b[1;32m---> 28\u001b[0m         news_index \u001b[38;5;241m=\u001b[39m \u001b[43mfiltered_articles\u001b[49m\u001b[43m[\u001b[49m\u001b[43mfiltered_articles\u001b[49m\u001b[43m[\u001b[49m\u001b[38;5;124;43m'\u001b[39;49m\u001b[38;5;124;43mNews ID\u001b[39;49m\u001b[38;5;124;43m'\u001b[39;49m\u001b[43m]\u001b[49m\u001b[43m \u001b[49m\u001b[38;5;241;43m==\u001b[39;49m\u001b[43m \u001b[49m\u001b[43mfeedback\u001b[49m\u001b[43m[\u001b[49m\u001b[38;5;124;43m'\u001b[39;49m\u001b[38;5;124;43mnews_id\u001b[39;49m\u001b[38;5;124;43m'\u001b[39;49m\u001b[43m]\u001b[49m\u001b[43m]\u001b[49m\u001b[38;5;241;43m.\u001b[39;49m\u001b[43mindex\u001b[49m\u001b[43m[\u001b[49m\u001b[38;5;241;43m0\u001b[39;49m\u001b[43m]\u001b[49m\n\u001b[0;32m     29\u001b[0m         similarity_matrix[:, news_index] \u001b[38;5;241m*\u001b[39m\u001b[38;5;241m=\u001b[39m (\u001b[38;5;241m1\u001b[39m \u001b[38;5;241m+\u001b[39m feedback[\u001b[38;5;124m'\u001b[39m\u001b[38;5;124mrating\u001b[39m\u001b[38;5;124m'\u001b[39m] \u001b[38;5;241m/\u001b[39m \u001b[38;5;241m5.0\u001b[39m)\n\u001b[0;32m     31\u001b[0m \u001b[38;5;28;01mif\u001b[39;00m similarity_matrix\u001b[38;5;241m.\u001b[39mshape[\u001b[38;5;241m0\u001b[39m] \u001b[38;5;241m==\u001b[39m \u001b[38;5;241m0\u001b[39m:\n",
      "File \u001b[1;32mc:\\Users\\Xiaomi\\miniconda3\\Lib\\site-packages\\pandas\\core\\indexes\\base.py:5389\u001b[0m, in \u001b[0;36mIndex.__getitem__\u001b[1;34m(self, key)\u001b[0m\n\u001b[0;32m   5386\u001b[0m \u001b[38;5;28;01mif\u001b[39;00m is_integer(key) \u001b[38;5;129;01mor\u001b[39;00m is_float(key):\n\u001b[0;32m   5387\u001b[0m     \u001b[38;5;66;03m# GH#44051 exclude bool, which would return a 2d ndarray\u001b[39;00m\n\u001b[0;32m   5388\u001b[0m     key \u001b[38;5;241m=\u001b[39m com\u001b[38;5;241m.\u001b[39mcast_scalar_indexer(key)\n\u001b[1;32m-> 5389\u001b[0m     \u001b[38;5;28;01mreturn\u001b[39;00m \u001b[43mgetitem\u001b[49m\u001b[43m(\u001b[49m\u001b[43mkey\u001b[49m\u001b[43m)\u001b[49m\n\u001b[0;32m   5391\u001b[0m \u001b[38;5;28;01mif\u001b[39;00m \u001b[38;5;28misinstance\u001b[39m(key, \u001b[38;5;28mslice\u001b[39m):\n\u001b[0;32m   5392\u001b[0m     \u001b[38;5;66;03m# This case is separated from the conditional above to avoid\u001b[39;00m\n\u001b[0;32m   5393\u001b[0m     \u001b[38;5;66;03m# pessimization com.is_bool_indexer and ndim checks.\u001b[39;00m\n\u001b[0;32m   5394\u001b[0m     \u001b[38;5;28;01mreturn\u001b[39;00m \u001b[38;5;28mself\u001b[39m\u001b[38;5;241m.\u001b[39m_getitem_slice(key)\n",
      "\u001b[1;31mIndexError\u001b[0m: index 0 is out of bounds for axis 0 with size 0"
     ]
    }
   ],
   "source": [
    "test_data = generate_test_data(users_df, bets_df, feedback_df, football_news_df, top_n=5)\n",
    "print(test_data)\n",
    "# Evaluate the recommendation system\n",
    "results = evaluate_system(\n",
    "    system=system_instance,\n",
    "    test_data=test_data,\n",
    "    content_embeddings=content_embeddings,\n",
    "    global_popularity=global_popularity,\n",
    "    k=10\n",
    ")\n",
    "\n",
    "print(\"Evaluation Results:\")\n",
    "print(results)"
   ]
  },
  {
   "cell_type": "code",
   "execution_count": null,
   "metadata": {},
   "outputs": [],
   "source": []
  }
 ],
 "metadata": {
  "kernelspec": {
   "display_name": "base",
   "language": "python",
   "name": "python3"
  },
  "language_info": {
   "codemirror_mode": {
    "name": "ipython",
    "version": 3
   },
   "file_extension": ".py",
   "mimetype": "text/x-python",
   "name": "python",
   "nbconvert_exporter": "python",
   "pygments_lexer": "ipython3",
   "version": "3.12.3"
  }
 },
 "nbformat": 4,
 "nbformat_minor": 2
}
