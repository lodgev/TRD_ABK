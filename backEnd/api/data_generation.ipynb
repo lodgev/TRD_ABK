{
 "cells": [
  {
   "cell_type": "code",
   "execution_count": null,
   "metadata": {},
   "outputs": [
    {
     "name": "stdout",
     "output_type": "stream",
     "text": [
      "CSV file with 50 users created: ./data/users.csv\n"
     ]
    }
   ],
   "source": [
    "# users.csv\n",
    "\n",
    "import csv\n",
    "from faker import Faker\n",
    "from datetime import datetime, timedelta\n",
    "\n",
    "# Initialize Faker\n",
    "fake = Faker()\n",
    "\n",
    "# Define the number of users to generate\n",
    "num_users = 50\n",
    "\n",
    "# Generate user data\n",
    "users = []\n",
    "start_date = datetime(2025, 1, 1, 12, 0, 0)  # Start date for \"createdat\"\n",
    "for i in range(1, num_users + 1):\n",
    "    user_id = f\"user{i}\"  # Generate user ID\n",
    "    email = f\"user{i}@example.com\"  # Generate email\n",
    "    firstname = fake.first_name()  # Generate first name\n",
    "    lastname = fake.last_name()  # Generate last name\n",
    "    created_at = (start_date + timedelta(days=i)).isoformat() + \"Z\"  # Increment date by days\n",
    "    users.append([user_id, email, firstname, lastname, created_at])\n",
    "\n",
    "# Define CSV headers\n",
    "headers = ['id', 'email', 'firstname', 'lastname', 'createdat']\n",
    "\n",
    "# Write to a CSV file\n",
    "output_file = \"./data/users.csv\"\n",
    "with open(output_file, mode=\"w\", newline=\"\", encoding=\"utf-8\") as csvfile:\n",
    "    writer = csv.writer(csvfile)\n",
    "    writer.writerow(headers)  \n",
    "    writer.writerows(users)   \n",
    "\n",
    "print(f\"CSV file with {num_users} users created: {output_file}\")\n"
   ]
  },
  {
   "cell_type": "code",
   "execution_count": 13,
   "metadata": {},
   "outputs": [
    {
     "name": "stdout",
     "output_type": "stream",
     "text": [
      "Generated feedback.csv with 100 random entries.\n"
     ]
    }
   ],
   "source": [
    "# feedback.csv\n",
    "\n",
    "import csv\n",
    "import random\n",
    "\n",
    "user_ids = [f\"user{i}\" for i in range(1, 10)]  \n",
    "\n",
    "# Load news IDs from news_test.csv\n",
    "news_file = \"./data/news_test.csv\"\n",
    "with open(news_file, \"r\", encoding=\"utf-8\") as file:\n",
    "    news_data = list(csv.DictReader(file))\n",
    "    news_ids = [row[\"News ID\"] for row in news_data]  # Extract News IDs\n",
    "\n",
    "# Define possible actions\n",
    "actions = [\"not_interested\", \"rated\"]\n",
    "\n",
    "# Generate random feedback data\n",
    "feedback = []\n",
    "for _ in range(300):  # Generate 100 rows\n",
    "    user_id = random.choice(user_ids)\n",
    "    news_id = random.choice(news_ids)\n",
    "    action = random.choice(actions)\n",
    "    rating = round(random.uniform(1, 5), 1) if action == \"rated\" else None\n",
    "    feedback.append([user_id, news_id, action, rating])\n",
    "\n",
    "# Define headers for feedback.csv\n",
    "headers = [\"user_id\", \"news_id\", \"action\", \"rating\"]\n",
    "\n",
    "# Write to feedback.csv\n",
    "output_file = \"./data/feedback.csv\"\n",
    "with open(output_file, mode=\"w\", newline=\"\", encoding=\"utf-8\") as csvfile:\n",
    "    writer = csv.writer(csvfile)\n",
    "    writer.writerow(headers)  # Write headers\n",
    "    writer.writerows(feedback)  # Write feedback rows\n",
    "\n",
    "print(f\"Generated feedback.csv with 100 random entries.\")\n"
   ]
  },
  {
   "cell_type": "code",
   "execution_count": 14,
   "metadata": {},
   "outputs": [
    {
     "name": "stdout",
     "output_type": "stream",
     "text": [
      "Generated liked_clubs.csv with 100 random entries.\n"
     ]
    }
   ],
   "source": [
    "# liked_clubs.csv\n",
    "\n",
    "import csv\n",
    "import random\n",
    "from datetime import datetime, timedelta\n",
    "\n",
    "# Mock data for users and clubs\n",
    "user_ids = [f\"user{i}\" for i in range(1, 10)]  # Example: user1, user2, ..., user50\n",
    "club_ids = list(range(1, 100))  # Example: 1, 2, ..., 100\n",
    "\n",
    "# Generate random liked clubs data\n",
    "liked_clubs = []\n",
    "click_id = 1  # Initialize click_id\n",
    "start_date = datetime(2024, 1, 1, 12, 0, 0)  # Start date for timestamps\n",
    "\n",
    "for _ in range(400):  # Generate 100 rows\n",
    "    user_id = random.choice(user_ids)\n",
    "    club_id = random.choice(club_ids)\n",
    "    action = \"liked\"\n",
    "    timestamp = (start_date + timedelta(days=random.randint(0, 365), seconds=random.randint(0, 86400))).strftime(\"%Y-%m-%d %H:%M:%S\")\n",
    "    liked_clubs.append([click_id, club_id, user_id, action, timestamp])\n",
    "    click_id += 1\n",
    "\n",
    "# Define headers for liked_clubs.csv\n",
    "headers = [\"click_id\", \"club_id\", \"user_id\", \"action\", \"timestamp\"]\n",
    "\n",
    "# Write to liked_clubs.csv\n",
    "output_file = \"./data/liked_clubs.csv\"\n",
    "with open(output_file, mode=\"w\", newline=\"\", encoding=\"utf-8\") as csvfile:\n",
    "    writer = csv.writer(csvfile)\n",
    "    writer.writerow(headers)  # Write headers\n",
    "    writer.writerows(liked_clubs)  # Write liked clubs rows\n",
    "\n",
    "print(f\"Generated liked_clubs.csv with 100 random entries.\")\n"
   ]
  },
  {
   "cell_type": "code",
   "execution_count": 15,
   "metadata": {},
   "outputs": [
    {
     "name": "stdout",
     "output_type": "stream",
     "text": [
      "Generated bets.csv with 100 random entries.\n"
     ]
    }
   ],
   "source": [
    "matches_csv_file = \"./data/matches.csv\"\n",
    "\n",
    "matches = []\n",
    "with open(matches_csv_file, mode=\"r\", encoding=\"utf-8\") as csvfile:\n",
    "    reader = csv.DictReader(csvfile)\n",
    "    for row in reader:\n",
    "        matches.append({\n",
    "            \"match_id\": int(row[\"Match ID\"]),  # Convert Match ID to integer\n",
    "            \"home_team\": row[\"Home Team\"],\n",
    "            \"away_team\": row[\"Away Team\"]\n",
    "        })\n",
    "        \n",
    "user_ids = [f\"user{i}\" for i in range(1, 10)]  \n",
    "\n",
    "bet_types = [\"win\", \"lose\", \"draw\"]\n",
    "statuses = [\"won\", \"lost\", \"pending\"]\n",
    "\n",
    "# Start date for created_at\n",
    "start_date = datetime(2025, 1, 1, 12, 0, 0)\n",
    "\n",
    "# Generate random bets data\n",
    "bets = []\n",
    "for bet_id in range(1, 101):  # Generate 100 rows\n",
    "    user_id = random.choice(user_ids)\n",
    "    match = random.choice(matches)\n",
    "    bet_type = random.choice(bet_types)\n",
    "    selected_team = random.choice([match[\"home_team\"], match[\"away_team\"]])\n",
    "    amount = round(random.uniform(10.0, 100.0), 2)\n",
    "    coefficient = round(random.uniform(1.5, 5.0), 2)\n",
    "    potential_win = round(amount * coefficient, 2)\n",
    "    status = random.choice(statuses)\n",
    "    created_at = (start_date + timedelta(days=random.randint(0, 30), seconds=random.randint(0, 86400))).isoformat() + \"Z\"\n",
    "    bets.append([bet_id, user_id, match[\"match_id\"], bet_type, selected_team, amount, potential_win, coefficient, status, created_at])\n",
    "\n",
    "# Define headers for bets.csv\n",
    "headers = [\"bet_id\", \"user_id\", \"match_id\", \"bet_type\", \"selected_team\", \"amount\", \"potential_win\", \"coefficient\", \"status\", \"created_at\"]\n",
    "\n",
    "# Write to bets.csv\n",
    "output_file = \"./data/bets.csv\"\n",
    "with open(output_file, mode=\"w\", newline=\"\", encoding=\"utf-8\") as csvfile:\n",
    "    writer = csv.writer(csvfile)\n",
    "    writer.writerow(headers)  # Write headers\n",
    "    writer.writerows(bets)  # Write bets rows\n",
    "\n",
    "print(f\"Generated bets.csv with 100 random entries.\")\n"
   ]
  }
 ],
 "metadata": {
  "kernelspec": {
   "display_name": "base",
   "language": "python",
   "name": "python3"
  },
  "language_info": {
   "codemirror_mode": {
    "name": "ipython",
    "version": 3
   },
   "file_extension": ".py",
   "mimetype": "text/x-python",
   "name": "python",
   "nbconvert_exporter": "python",
   "pygments_lexer": "ipython3",
   "version": "3.12.3"
  }
 },
 "nbformat": 4,
 "nbformat_minor": 2
}
