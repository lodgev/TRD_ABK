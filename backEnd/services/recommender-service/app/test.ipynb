{
 "cells": [
  {
   "cell_type": "code",
   "execution_count": 1,
   "metadata": {},
   "outputs": [],
   "source": [
    "import csv\n",
    "\n",
    "# Input CSV file\n",
    "input_csv = 'news_test.csv'\n",
    "data_file = '2-data.sql'\n",
    "\n",
    "# Set to track unique news IDs\n",
    "unique_news_ids = set()\n",
    "\n",
    "# Read the CSV and create SQL files\n",
    "with open(input_csv, 'r', encoding='utf-8') as csv_file:\n",
    "    reader = csv.DictReader(csv_file)\n",
    "\n",
    "    # Define table schema\n",
    "\n",
    "\n",
    "\n",
    "    # Write data to the data file\n",
    "    with open(data_file, 'w', encoding='utf-8') as data_out:\n",
    "        for row in reader:\n",
    "            news_id = row['News ID']\n",
    "\n",
    "            # Skip if news_id already exists\n",
    "            if news_id in unique_news_ids:\n",
    "                continue\n",
    "\n",
    "            # Add news_id to the set\n",
    "            unique_news_ids.add(news_id)\n",
    "\n",
    "            # Escape single quotes in text fields\n",
    "            team_id = row['Team ID']\n",
    "            title = row['Title'].replace(\"'\", \"''\")  # Escape single quotes\n",
    "            image = row['Image'].replace(\"'\", \"''\")\n",
    "            published_time = row['Published Time']\n",
    "            source = row['Source'].replace(\"'\", \"''\")\n",
    "            url = row['URL'].replace(\"'\", \"''\")\n",
    "            content = row['Content'].replace(\"'\", \"''\")\n",
    "\n",
    "            # Create the INSERT statement\n",
    "            insert_query = f\"\"\"\n",
    "            INSERT INTO sport_news (team_id, news_id, title, image_url, published_time, source, url, content)\n",
    "            VALUES (\n",
    "                {team_id},\n",
    "                '{news_id}',\n",
    "                '{title}',\n",
    "                '{image}',\n",
    "                '{published_time}',\n",
    "                '{source}',\n",
    "                '{url}',\n",
    "                '{content}'\n",
    "            );\n",
    "            \"\"\"\n",
    "            data_out.write(insert_query.strip() + '\\n')\n"
   ]
  }
 ],
 "metadata": {
  "kernelspec": {
   "display_name": "base",
   "language": "python",
   "name": "python3"
  },
  "language_info": {
   "codemirror_mode": {
    "name": "ipython",
    "version": 3
   },
   "file_extension": ".py",
   "mimetype": "text/x-python",
   "name": "python",
   "nbconvert_exporter": "python",
   "pygments_lexer": "ipython3",
   "version": "3.12.3"
  }
 },
 "nbformat": 4,
 "nbformat_minor": 2
}
