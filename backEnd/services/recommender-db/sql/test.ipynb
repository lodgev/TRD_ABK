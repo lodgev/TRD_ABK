{
 "cells": [
  {
   "cell_type": "code",
   "execution_count": 1,
   "metadata": {},
   "outputs": [
    {
     "name": "stdout",
     "output_type": "stream",
     "text": [
      "Дати у файлі 2-data.sql виправлено та збережено у 2-data-fixed.sql\n"
     ]
    }
   ],
   "source": [
    "import re\n",
    "\n",
    "def fix_date_format_in_sql(input_file, output_file):\n",
    "    # Регулярний вираз для знаходження дат у форматі ISO 8601\n",
    "    date_pattern = re.compile(r'(\\d{4}-\\d{2}-\\d{2})T(\\d{2}:\\d{2}:\\d{2})(?:\\.\\d+)?Z')\n",
    "\n",
    "    def replace_date(match):\n",
    "        # Форматування дати у вигляді TO_TIMESTAMP\n",
    "        date_part = match.group(1)  # YYYY-MM-DD\n",
    "        time_part = match.group(2)  # HH:MM:SS\n",
    "        return f\"TO_TIMESTAMP('{date_part} {time_part}', 'YYYY-MM-DD HH24:MI:SS')\"\n",
    "\n",
    "    # Читання вхідного файлу\n",
    "    with open(input_file, 'r', encoding='utf-8') as file:\n",
    "        sql_content = file.read()\n",
    "\n",
    "    # Заміна дат у файлі\n",
    "    fixed_sql_content = date_pattern.sub(replace_date, sql_content)\n",
    "\n",
    "    # Запис зміненого вмісту у вихідний файл\n",
    "    with open(output_file, 'w', encoding='utf-8') as file:\n",
    "        file.write(fixed_sql_content)\n",
    "\n",
    "    print(f\"Дати у файлі {input_file} виправлено та збережено у {output_file}\")\n",
    "\n",
    "# Використання\n",
    "input_file = '2-data.sql'  # Вкажіть ваш SQL-файл\n",
    "output_file = '2-data-fixed.sql'  # Вкажіть ім'я файлу для збереження змін\n",
    "fix_date_format_in_sql(input_file, output_file)\n"
   ]
  }
 ],
 "metadata": {
  "kernelspec": {
   "display_name": "base",
   "language": "python",
   "name": "python3"
  },
  "language_info": {
   "codemirror_mode": {
    "name": "ipython",
    "version": 3
   },
   "file_extension": ".py",
   "mimetype": "text/x-python",
   "name": "python",
   "nbconvert_exporter": "python",
   "pygments_lexer": "ipython3",
   "version": "3.12.3"
  }
 },
 "nbformat": 4,
 "nbformat_minor": 2
}
