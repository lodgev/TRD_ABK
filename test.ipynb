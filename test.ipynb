{
 "cells": [
  {
   "cell_type": "code",
   "execution_count": 1,
   "metadata": {},
   "outputs": [
    {
     "name": "stdout",
     "output_type": "stream",
     "text": [
      "Your SECRET_KEY: ed73c27f0152572f885e87d1435153c56865d7ee379ffa0c89c6242616effade\n"
     ]
    }
   ],
   "source": [
    "import secrets\n",
    "\n",
    "# Генерація випадкового секретного ключа\n",
    "secret_key = secrets.token_hex(32)\n",
    "print(f\"Your SECRET_KEY: {secret_key}\")\n"
   ]
  },
  {
   "cell_type": "code",
   "execution_count": 4,
   "metadata": {},
   "outputs": [
    {
     "ename": "ModuleNotFoundError",
     "evalue": "No module named 'bcrypt'",
     "output_type": "error",
     "traceback": [
      "\u001b[1;31m---------------------------------------------------------------------------\u001b[0m",
      "\u001b[1;31mModuleNotFoundError\u001b[0m                       Traceback (most recent call last)",
      "Cell \u001b[1;32mIn[4], line 1\u001b[0m\n\u001b[1;32m----> 1\u001b[0m \u001b[38;5;28;01mimport\u001b[39;00m \u001b[38;5;21;01mbcrypt\u001b[39;00m\n\u001b[0;32m      3\u001b[0m hashed_password \u001b[38;5;241m=\u001b[39m \u001b[38;5;124mb\u001b[39m\u001b[38;5;124m\"\u001b[39m\u001b[38;5;124m$2y$10$L6V/Mdi8VToHNuOUvJvKi.n7VmGYFcMyGjCRLl/J.16JtVqsqMnW.\u001b[39m\u001b[38;5;124m\"\u001b[39m\n\u001b[0;32m      4\u001b[0m password_to_check \u001b[38;5;241m=\u001b[39m \u001b[38;5;124m\"\u001b[39m\u001b[38;5;124mpassword123\u001b[39m\u001b[38;5;124m\"\u001b[39m  \u001b[38;5;66;03m# Replace with the password you're testing\u001b[39;00m\n",
      "\u001b[1;31mModuleNotFoundError\u001b[0m: No module named 'bcrypt'"
     ]
    }
   ],
   "source": [
    "import bcrypt\n",
    "\n",
    "hashed_password = b\"$2y$10$L6V/Mdi8VToHNuOUvJvKi.n7VmGYFcMyGjCRLl/J.16JtVqsqMnW.\"\n",
    "password_to_check = \"password123\"  # Replace with the password you're testing\n",
    "\n",
    "if bcrypt.checkpw(password_to_check.encode('utf-8'), hashed_password):\n",
    "    print(\"Password matches!\")\n",
    "else:\n",
    "    print(\"Password does not match.\")\n"
   ]
  },
  {
   "cell_type": "code",
   "execution_count": 6,
   "metadata": {},
   "outputs": [
    {
     "ename": "ModuleNotFoundError",
     "evalue": "No module named 'bcrypt'",
     "output_type": "error",
     "traceback": [
      "\u001b[1;31m---------------------------------------------------------------------------\u001b[0m",
      "\u001b[1;31mModuleNotFoundError\u001b[0m                       Traceback (most recent call last)",
      "Cell \u001b[1;32mIn[6], line 1\u001b[0m\n\u001b[1;32m----> 1\u001b[0m \u001b[38;5;28;01mimport\u001b[39;00m \u001b[38;5;21;01mbcrypt\u001b[39;00m\n\u001b[0;32m      3\u001b[0m \u001b[38;5;66;03m# Generate a new hash for testing or resetting\u001b[39;00m\n\u001b[0;32m      4\u001b[0m password \u001b[38;5;241m=\u001b[39m \u001b[38;5;124m\"\u001b[39m\u001b[38;5;124mnewpassword123\u001b[39m\u001b[38;5;124m\"\u001b[39m\n",
      "\u001b[1;31mModuleNotFoundError\u001b[0m: No module named 'bcrypt'"
     ]
    }
   ],
   "source": [
    "import bcrypt\n",
    "\n",
    "# Generate a new hash for testing or resetting\n",
    "password = \"newpassword123\"\n",
    "hashed_password = bcrypt.hashpw(password.encode('utf-8'), bcrypt.gensalt())\n",
    "\n",
    "# Store hashed_password in your database\n",
    "print(hashed_password.decode())\n"
   ]
  },
  {
   "cell_type": "code",
   "execution_count": 10,
   "metadata": {},
   "outputs": [
    {
     "name": "stdout",
     "output_type": "stream",
     "text": [
      "pbkdf2:sha256:600000$KBWNCEgW$cd3de4f2b261be199a8ecec6beb0931aa5ccfa264afbb526386a8960fa44bf02\n"
     ]
    }
   ],
   "source": [
    "from werkzeug.security import generate_password_hash\n",
    "\n",
    "new_password = \"password123\"\n",
    "hashed_password = generate_password_hash(new_password, method=\"pbkdf2:sha256\", salt_length=8)\n",
    "print(hashed_password)\n"
   ]
  },
  {
   "cell_type": "code",
   "execution_count": 11,
   "metadata": {},
   "outputs": [
    {
     "name": "stdout",
     "output_type": "stream",
     "text": [
      "Password matches!\n"
     ]
    }
   ],
   "source": [
    "import hashlib\n",
    "\n",
    "# Extracted hash components\n",
    "salt = \"jXbMCZl0\"\n",
    "hashed_password = \"d3a449cf63b25d43b3a5665c092b5784eec57fb13e13e7ebbee2535c89a83e62\"\n",
    "password_to_check = \"password123\"  # Replace this with the password you want to test\n",
    "\n",
    "# Hash the password with the salt\n",
    "hashed_check = hashlib.sha256((salt + password_to_check).encode()).hexdigest()\n",
    "\n",
    "if hashed_check == hashed_password:\n",
    "    print(\"Password matches!\")\n",
    "else:\n",
    "    print(\"Password does not match.\")\n"
   ]
  },
  {
   "cell_type": "code",
   "execution_count": 8,
   "metadata": {},
   "outputs": [
    {
     "name": "stdout",
     "output_type": "stream",
     "text": [
      "LkiwwFQn\n",
      "ff3e17c5235efa9032cdec3e4e5e93115ce144a25dd8414f834b3ae7e5029818\n",
      "e14d43cd437bb7aa0a4960388ae0cff4ef0c08acbdf4d5d6f5e4d8f5ac558479\n",
      "False\n"
     ]
    }
   ],
   "source": [
    "import hashlib\n",
    "\n",
    "def verify_password(stored_password, provided_password):\n",
    "    \"\"\"\n",
    "    Перевірка пароля. Хешує наданий пароль і порівнює з хешем у базі даних.\n",
    "    \"\"\"\n",
    "    # Розділяємо хеш на алгоритм, сіль і сам хеш\n",
    "    algorithm, salt, hash_value = stored_password.split('$')\n",
    "    # Генеруємо хеш наданого пароля з сіллю\n",
    "    hashed_provided_password = hashlib.sha256((salt + provided_password).encode()).hexdigest()\n",
    "    print(salt)\n",
    "    print(hash_value)\n",
    "    print(hashed_provided_password)\n",
    "    # Порівнюємо хеші\n",
    "    return hash_value == hashed_provided_password\n",
    "\n",
    "print(verify_password(\"sha256$LkiwwFQn$ff3e17c5235efa9032cdec3e4e5e93115ce144a25dd8414f834b3ae7e5029818\", \"password123\"))"
   ]
  },
  {
   "cell_type": "code",
   "execution_count": 3,
   "metadata": {},
   "outputs": [
    {
     "name": "stdout",
     "output_type": "stream",
     "text": [
      "Generated hash: e14d43cd437bb7aa0a4960388ae0cff4ef0c08acbdf4d5d6f5e4d8f5ac558479\n"
     ]
    }
   ],
   "source": [
    "import hashlib\n",
    "\n",
    "# Дані з бази\n",
    "salt = \"LkiwwFQn\"\n",
    "provided_password = \"password123\"\n",
    "\n",
    "# Генерація хешу\n",
    "hashed_password = hashlib.sha256((salt + provided_password).encode()).hexdigest()\n",
    "print(f\"Generated hash: {hashed_password}\")\n"
   ]
  },
  {
   "cell_type": "code",
   "execution_count": 9,
   "metadata": {},
   "outputs": [
    {
     "name": "stdout",
     "output_type": "stream",
     "text": [
      "Generated hash: sha256$LkiwwFQn$ff3e17c5235efa9032cdec3e4e5e93115ce144a25dd8414f834b3ae7e5029818\n",
      "Password is valid: True\n"
     ]
    },
    {
     "name": "stderr",
     "output_type": "stream",
     "text": [
      "C:\\Users\\Xiaomi\\AppData\\Local\\Temp\\ipykernel_20352\\1987541179.py:8: UserWarning: The 'sha256' password method is deprecated and will be removed in Werkzeug 3.0. Migrate to the 'scrypt' method.\n",
      "  is_valid = check_password_hash(hashed_password, \"password123\")\n"
     ]
    }
   ],
   "source": [
    "from werkzeug.security import generate_password_hash, check_password_hash\n",
    "\n",
    "# Згенеруємо хеш пароля\n",
    "new_password = \"password123\"\n",
    "hashed_password = 'sha256$LkiwwFQn$ff3e17c5235efa9032cdec3e4e5e93115ce144a25dd8414f834b3ae7e5029818'\n",
    "\n",
    "# Перевіримо пароль\n",
    "is_valid = check_password_hash(hashed_password, \"password123\")\n",
    "\n",
    "print(f\"Generated hash: {hashed_password}\")\n",
    "print(f\"Password is valid: {is_valid}\")\n"
   ]
  }
 ],
 "metadata": {
  "kernelspec": {
   "display_name": "Python 3",
   "language": "python",
   "name": "python3"
  },
  "language_info": {
   "codemirror_mode": {
    "name": "ipython",
    "version": 3
   },
   "file_extension": ".py",
   "mimetype": "text/x-python",
   "name": "python",
   "nbconvert_exporter": "python",
   "pygments_lexer": "ipython3",
   "version": "3.11.3"
  }
 },
 "nbformat": 4,
 "nbformat_minor": 2
}
